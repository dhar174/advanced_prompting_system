{
 "cells": [
  {
   "cell_type": "markdown",
   "id": "5425b757-a9dc-4b29-b54e-8f2f8ce4f021",
   "metadata": {},
   "source": [
    "# SQL and Python Integration Demo\n",
    "\n",
    "This notebook demonstrates how to:\n",
    "\n",
    "1. Connect to an SQLite database using Python.\n",
    "2. Execute basic SQL queries (SELECT, INSERT, UPDATE, DELETE).\n",
    "3. Use `pandas` to read SQL query results into a DataFrame.\n",
    "4. Write DataFrames back to the database.\n",
    "5. Perform simple ETL (Extract, Transform, Load) operations.\n",
    "6. Visualize query results.\n",
    "\n",
    "Make sure you have:\n",
    "- `sqlite3` (part of the standard library, so no extra install needed)\n",
    "- `pandas` (install via `pip install pandas`)\n",
    "- `matplotlib` (install via `pip install matplotlib`)\n",
    "\n",
    "A sample `company_data.db` file with `Employees` and `Departments` tables is assumed. If you don’t have one yet, run the provided SQL commands to create the necessary tables.\n"
   ]
  },
  {
   "cell_type": "code",
   "execution_count": 6,
   "id": "f84dbc11-44c4-4266-b31b-968f79c40ea5",
   "metadata": {},
   "outputs": [],
   "source": [
    "# If running in a notebook, it's good practice to have plots inline\n",
    "%matplotlib inline\n",
    "import sqlite3\n",
    "import pandas as pd\n",
    "import matplotlib.pyplot as plt\n"
   ]
  },
  {
   "cell_type": "code",
   "execution_count": null,
   "id": "a5131ba3-e5e1-4222-a1f6-19a2ef2dbb69",
   "metadata": {},
   "outputs": [],
   "source": []
  },
  {
   "cell_type": "code",
   "execution_count": null,
   "id": "a3d37a44-036c-498a-8936-fa666f9a0cd6",
   "metadata": {},
   "outputs": [],
   "source": [
    "## 1. Connecting to a SQLite Database\n",
    "\n",
    "We will connect to an SQLite database file named `company_data.db`.\n",
    "If it doesn't exist, it will be created when we connect. But for demonstration,\n",
    "we assume you've created it using DB Browser for SQLite.\n"
   ]
  },
  {
   "cell_type": "code",
   "execution_count": 8,
   "id": "96ab1ed1-89f1-4d96-9be0-634b3dc456da",
   "metadata": {},
   "outputs": [
    {
     "name": "stdout",
     "output_type": "stream",
     "text": [
      "Current tables: []\n"
     ]
    }
   ],
   "source": [
    "# Connect to the database (create connection object)\n",
    "conn = sqlite3.connect('company_data.db')\n",
    "\n",
    "# Create a cursor object to execute SQL queries\n",
    "cursor = conn.cursor()\n",
    "\n",
    "# Check existing tables (if any)\n",
    "tables = cursor.execute(\"SELECT name FROM sqlite_master WHERE type='table';\").fetchall()\n",
    "print(\"Current tables:\", tables)\n"
   ]
  },
  {
   "cell_type": "code",
   "execution_count": null,
   "id": "47a64db9-3ded-4fa0-8215-c5c9ba768764",
   "metadata": {},
   "outputs": [],
   "source": [
    "If `Employees` and `Departments` tables aren’t present, let’s create them and insert some sample data.\n",
    "If they already exist, this step can be skipped or commented out.\n"
   ]
  },
  {
   "cell_type": "code",
   "execution_count": 11,
   "id": "6ca92119-19bc-42e0-a9a6-c17d95449083",
   "metadata": {},
   "outputs": [],
   "source": [
    "# Create Employees table if it doesn't exist\n",
    "cursor.execute(\"\"\"\n",
    "CREATE TABLE IF NOT EXISTS Employees (\n",
    "    ID INTEGER PRIMARY KEY AUTOINCREMENT,\n",
    "    Name TEXT,\n",
    "    Age INTEGER,\n",
    "    Position TEXT,\n",
    "    DeptID INTEGER\n",
    ");\n",
    "\"\"\")\n",
    "\n",
    "# Create Departments table if it doesn't exist\n",
    "cursor.execute(\"\"\"\n",
    "CREATE TABLE IF NOT EXISTS Departments (\n",
    "    ID INTEGER PRIMARY KEY AUTOINCREMENT,\n",
    "    DepartmentName TEXT\n",
    ");\n",
    "\"\"\")\n",
    "\n",
    "conn.commit()\n",
    "\n",
    "# Insert sample departments\n",
    "cursor.execute(\"INSERT INTO Departments (DepartmentName) VALUES (?)\", (\"Human Resources\",))\n",
    "cursor.execute(\"INSERT INTO Departments (DepartmentName) VALUES (?)\", (\"Engineering\",))\n",
    "cursor.execute(\"INSERT INTO Departments (DepartmentName) VALUES (?)\", (\"Data Science\",))\n",
    "\n",
    "# Insert sample employees\n",
    "cursor.execute(\"INSERT INTO Employees (Name, Age, Position, DeptID) VALUES (?,?,?,?)\", (\"Alice Smith\", 30, \"Data Scientist\", 3))\n",
    "cursor.execute(\"INSERT INTO Employees (Name, Age, Position, DeptID) VALUES (?,?,?,?)\", (\"Bob Johnson\", 45, \"Manager\", 1))\n",
    "cursor.execute(\"INSERT INTO Employees (Name, Age, Position, DeptID) VALUES (?,?,?,?)\", (\"Carol Davis\", 29, \"Data Analyst\", 3))\n",
    "\n",
    "conn.commit()\n"
   ]
  },
  {
   "cell_type": "code",
   "execution_count": 10,
   "id": "29edd18e-f90e-4b22-9d53-ac1d033d0ec0",
   "metadata": {},
   "outputs": [
    {
     "name": "stdout",
     "output_type": "stream",
     "text": [
      "Current tables: [('Employees',), ('sqlite_sequence',), ('Departments',)]\n"
     ]
    }
   ],
   "source": [
    "# Check existing tables (if any)\n",
    "tables = cursor.execute(\"SELECT name FROM sqlite_master WHERE type='table';\").fetchall()\n",
    "print(\"Current tables:\", tables)"
   ]
  },
  {
   "cell_type": "code",
   "execution_count": 12,
   "id": "b2aef5bf-4084-4744-97b6-065e39d7881f",
   "metadata": {},
   "outputs": [
    {
     "data": {
      "text/plain": [
       "[(1, 'Alice Smith', 30, 'Data Scientist', 3),\n",
       " (2, 'Bob Johnson', 45, 'Manager', 1),\n",
       " (3, 'Carol Davis', 29, 'Data Analyst', 3),\n",
       " (4, 'Alice Smith', 30, 'Data Scientist', 3),\n",
       " (5, 'Bob Johnson', 45, 'Manager', 1),\n",
       " (6, 'Carol Davis', 29, 'Data Analyst', 3),\n",
       " (7, 'Alice Smith', 30, 'Data Scientist', None),\n",
       " (8, 'Bob Johnson', 45, 'Manager', None),\n",
       " (9, 'Carol Davis', 29, 'Data Analyst', None)]"
      ]
     },
     "execution_count": 12,
     "metadata": {},
     "output_type": "execute_result"
    }
   ],
   "source": [
    "# Insert data into Employees table\n",
    "cursor.execute(\"INSERT INTO Employees (Name, Age, Position) VALUES ('Alice Smith', 30, 'Data Scientist')\")\n",
    "cursor.execute(\"INSERT INTO Employees (Name, Age, Position) VALUES ('Bob Johnson', 45, 'Manager')\")\n",
    "cursor.execute(\"INSERT INTO Employees (Name, Age, Position) VALUES ('Carol Davis', 29, 'Data Analyst')\")\n",
    "conn.commit()\n",
    "\n",
    "# Let's verify that the rows have been inserted by selecting them\n",
    "cursor.execute(\"SELECT * FROM Employees\")\n",
    "rows = cursor.fetchall()\n",
    "rows\n",
    "\n"
   ]
  },
  {
   "cell_type": "code",
   "execution_count": 15,
   "id": "98861fc4-8d10-4d1b-8c6d-0e0e3fce03f8",
   "metadata": {},
   "outputs": [],
   "source": [
    "cursor.execute(\"DELETE FROM Employees WHERE ROWID NOT IN (SELECT MIN(ROWID) FROM Employees GROUP BY Name);\")\n",
    "conn.commit()\n"
   ]
  },
  {
   "cell_type": "code",
   "execution_count": 16,
   "id": "871a4264-092d-40c1-bdc0-da817f11d44d",
   "metadata": {},
   "outputs": [
    {
     "name": "stdout",
     "output_type": "stream",
     "text": [
      "(1, 'Alice Smith', 30, 'Data Scientist', 3)\n",
      "(2, 'Bob Johnson', 45, 'Manager', 1)\n",
      "(3, 'Carol Davis', 29, 'Data Analyst', 3)\n"
     ]
    }
   ],
   "source": [
    "# Verify the result\n",
    "cursor.execute(\"SELECT * FROM Employees;\")\n",
    "for row in cursor.fetchall():\n",
    "    print(row)"
   ]
  },
  {
   "cell_type": "code",
   "execution_count": null,
   "id": "3baf4990-4155-4337-b68a-43610454178f",
   "metadata": {},
   "outputs": [],
   "source": [
    "## 3. SELECT and WHERE\n",
    "\n",
    "The `SELECT` statement is used to retrieve data from a table. The `WHERE` clause allows us to filter rows based on conditions.\n"
   ]
  },
  {
   "cell_type": "code",
   "execution_count": 17,
   "id": "0ce31226-5861-4946-a7ae-f843c890a311",
   "metadata": {},
   "outputs": [
    {
     "name": "stdout",
     "output_type": "stream",
     "text": [
      "All Employees:\n",
      "(1, 'Alice Smith', 30, 'Data Scientist', 3)\n",
      "(2, 'Bob Johnson', 45, 'Manager', 1)\n",
      "(3, 'Carol Davis', 29, 'Data Analyst', 3)\n"
     ]
    }
   ],
   "source": [
    "# SELECT all columns from Employees\n",
    "cursor.execute(\"SELECT * FROM Employees;\")\n",
    "print(\"All Employees:\")\n",
    "for row in cursor.fetchall():\n",
    "    print(row)"
   ]
  },
  {
   "cell_type": "code",
   "execution_count": 18,
   "id": "28e62eb9-3bb7-4f22-aac8-e12309a516ea",
   "metadata": {},
   "outputs": [
    {
     "name": "stdout",
     "output_type": "stream",
     "text": [
      "\n",
      "Just Name and Position:\n",
      "('Alice Smith', 'Data Scientist')\n",
      "('Bob Johnson', 'Manager')\n",
      "('Carol Davis', 'Data Analyst')\n"
     ]
    }
   ],
   "source": [
    "# SELECT specific columns\n",
    "cursor.execute(\"SELECT Name, Position FROM Employees;\")\n",
    "print(\"\\nJust Name and Position:\")\n",
    "for row in cursor.fetchall():\n",
    "    print(row)\n"
   ]
  },
  {
   "cell_type": "code",
   "execution_count": 20,
   "id": "81bd7e44-3fc6-4e69-a28a-5354504d6adc",
   "metadata": {},
   "outputs": [
    {
     "name": "stdout",
     "output_type": "stream",
     "text": [
      "\n",
      "Employees older than 30:\n",
      "('Alice Smith', 30)\n",
      "('Bob Johnson', 45)\n"
     ]
    }
   ],
   "source": [
    "cursor.execute(\"SELECT Name, Age FROM Employees WHERE Age > 30;\")\n",
    "print(\"\\nEmployees older than 30:\")\n",
    "for row in cursor.fetchall():\n",
    "    print(row)"
   ]
  },
  {
   "cell_type": "code",
   "execution_count": null,
   "id": "856429de-e6f6-4d33-9e4c-6c4534712ea8",
   "metadata": {},
   "outputs": [],
   "source": [
    "## 4. ORDER BY and LIMIT\n",
    "\n",
    "`ORDER BY` allows us to sort the result-set by one or more columns.\n",
    "`LIMIT` restricts how many rows are returned.\n"
   ]
  },
  {
   "cell_type": "code",
   "execution_count": 22,
   "id": "2a2cd4c3-7708-41dd-a891-13f4210ac214",
   "metadata": {},
   "outputs": [
    {
     "name": "stdout",
     "output_type": "stream",
     "text": [
      "Employees sorted by Age (descending):\n",
      "('Carol Davis', 29)\n",
      "('Alice Smith', 30)\n",
      "('Bob Johnson', 45)\n"
     ]
    }
   ],
   "source": [
    "cursor.execute(\"SELECT Name, Age FROM Employees ORDER BY Age ASC;\")\n",
    "print(\"Employees sorted by Age (descending):\")\n",
    "for row in cursor.fetchall():\n",
    "    print(row)"
   ]
  },
  {
   "cell_type": "code",
   "execution_count": null,
   "id": "8fd00482-bde8-4c1d-9878-4d7d2719008d",
   "metadata": {},
   "outputs": [],
   "source": [
    "## 5. UPDATE and DELETE\n",
    "\n",
    "`UPDATE` modifies existing rows in the table.\n",
    "`DELETE` removes rows from the table.\n",
    "\n",
    "**Use these commands with caution in real-world scenarios!**\n"
   ]
  },
  {
   "cell_type": "code",
   "execution_count": 23,
   "id": "31b82c5a-2719-48ca-a013-ff64eac1dbee",
   "metadata": {},
   "outputs": [],
   "source": [
    "# UPDATE: Increase Carol's age by 1\n",
    "cursor.execute(\"UPDATE Employees SET Age = 30 WHERE Name = 'Carol Davis';\")\n",
    "conn.commit()"
   ]
  },
  {
   "cell_type": "code",
   "execution_count": 24,
   "id": "07f116d8-2ae2-4a82-9122-b7c07bc3bd57",
   "metadata": {},
   "outputs": [
    {
     "name": "stdout",
     "output_type": "stream",
     "text": [
      "Carol after update: ('Carol Davis', 30)\n"
     ]
    }
   ],
   "source": [
    "# Check the result\n",
    "cursor.execute(\"SELECT Name, Age FROM Employees WHERE Name='Carol Davis';\")\n",
    "print(\"Carol after update:\", cursor.fetchone())\n"
   ]
  },
  {
   "cell_type": "code",
   "execution_count": 25,
   "id": "93b0f215-31b9-4550-9cf2-91687e469cd7",
   "metadata": {},
   "outputs": [
    {
     "name": "stdout",
     "output_type": "stream",
     "text": [
      "Employees after deleting Bob:\n",
      "(1, 'Alice Smith', 30, 'Data Scientist', 3)\n",
      "(3, 'Carol Davis', 30, 'Data Analyst', 3)\n"
     ]
    }
   ],
   "source": [
    "# DELETE: Remove Bob Johnson\n",
    "cursor.execute(\"DELETE FROM Employees WHERE Name='Bob Johnson';\")\n",
    "conn.commit()\n",
    "# Check the remaining employees\n",
    "cursor.execute(\"SELECT * FROM Employees;\")\n",
    "print(\"Employees after deleting Bob:\")\n",
    "for row in cursor.fetchall():\n",
    "    print(row)"
   ]
  },
  {
   "cell_type": "code",
   "execution_count": null,
   "id": "cd8b3652-06bb-4234-a088-a3966c1507c5",
   "metadata": {},
   "outputs": [],
   "source": [
    "## 6. Using pandas to View and Manipulate Data\n",
    "\n",
    "We can use `pandas` to read SQL query results directly into a DataFrame for easier viewing and further analysis.\n"
   ]
  },
  {
   "cell_type": "code",
   "execution_count": 29,
   "id": "ff5361f7-7593-4b37-9a56-f67c7da11394",
   "metadata": {},
   "outputs": [
    {
     "name": "stdout",
     "output_type": "stream",
     "text": [
      "Employees DataFrame:\n"
     ]
    },
    {
     "data": {
      "text/html": [
       "<div>\n",
       "<style scoped>\n",
       "    .dataframe tbody tr th:only-of-type {\n",
       "        vertical-align: middle;\n",
       "    }\n",
       "\n",
       "    .dataframe tbody tr th {\n",
       "        vertical-align: top;\n",
       "    }\n",
       "\n",
       "    .dataframe thead th {\n",
       "        text-align: right;\n",
       "    }\n",
       "</style>\n",
       "<table border=\"1\" class=\"dataframe\">\n",
       "  <thead>\n",
       "    <tr style=\"text-align: right;\">\n",
       "      <th></th>\n",
       "      <th>ID</th>\n",
       "      <th>Name</th>\n",
       "      <th>Age</th>\n",
       "      <th>Position</th>\n",
       "      <th>DeptID</th>\n",
       "    </tr>\n",
       "  </thead>\n",
       "  <tbody>\n",
       "    <tr>\n",
       "      <th>0</th>\n",
       "      <td>1</td>\n",
       "      <td>Alice Smith</td>\n",
       "      <td>30</td>\n",
       "      <td>Data Scientist</td>\n",
       "      <td>3</td>\n",
       "    </tr>\n",
       "    <tr>\n",
       "      <th>1</th>\n",
       "      <td>3</td>\n",
       "      <td>Carol Davis</td>\n",
       "      <td>30</td>\n",
       "      <td>Data Analyst</td>\n",
       "      <td>3</td>\n",
       "    </tr>\n",
       "  </tbody>\n",
       "</table>\n",
       "</div>"
      ],
      "text/plain": [
       "   ID         Name  Age        Position  DeptID\n",
       "0   1  Alice Smith   30  Data Scientist       3\n",
       "1   3  Carol Davis   30    Data Analyst       3"
      ]
     },
     "execution_count": 29,
     "metadata": {},
     "output_type": "execute_result"
    }
   ],
   "source": [
    "# Load the Employees table into a pandas DataFrame\n",
    "employees_df = pd.read_sql_query(\"SELECT * FROM Employees;\", conn)\n",
    "print(\"Employees DataFrame:\")\n",
    "employees_df"
   ]
  },
  {
   "cell_type": "code",
   "execution_count": 30,
   "id": "8ac1346c-8076-4674-94aa-98378707fe8f",
   "metadata": {},
   "outputs": [
    {
     "name": "stdout",
     "output_type": "stream",
     "text": [
      "\n",
      "Departments DataFrame:\n"
     ]
    },
    {
     "data": {
      "text/html": [
       "<div>\n",
       "<style scoped>\n",
       "    .dataframe tbody tr th:only-of-type {\n",
       "        vertical-align: middle;\n",
       "    }\n",
       "\n",
       "    .dataframe tbody tr th {\n",
       "        vertical-align: top;\n",
       "    }\n",
       "\n",
       "    .dataframe thead th {\n",
       "        text-align: right;\n",
       "    }\n",
       "</style>\n",
       "<table border=\"1\" class=\"dataframe\">\n",
       "  <thead>\n",
       "    <tr style=\"text-align: right;\">\n",
       "      <th></th>\n",
       "      <th>ID</th>\n",
       "      <th>DepartmentName</th>\n",
       "    </tr>\n",
       "  </thead>\n",
       "  <tbody>\n",
       "    <tr>\n",
       "      <th>0</th>\n",
       "      <td>1</td>\n",
       "      <td>Human Resources</td>\n",
       "    </tr>\n",
       "    <tr>\n",
       "      <th>1</th>\n",
       "      <td>2</td>\n",
       "      <td>Engineering</td>\n",
       "    </tr>\n",
       "    <tr>\n",
       "      <th>2</th>\n",
       "      <td>3</td>\n",
       "      <td>Data Science</td>\n",
       "    </tr>\n",
       "    <tr>\n",
       "      <th>3</th>\n",
       "      <td>4</td>\n",
       "      <td>Human Resources</td>\n",
       "    </tr>\n",
       "    <tr>\n",
       "      <th>4</th>\n",
       "      <td>5</td>\n",
       "      <td>Engineering</td>\n",
       "    </tr>\n",
       "    <tr>\n",
       "      <th>5</th>\n",
       "      <td>6</td>\n",
       "      <td>Data Science</td>\n",
       "    </tr>\n",
       "  </tbody>\n",
       "</table>\n",
       "</div>"
      ],
      "text/plain": [
       "   ID   DepartmentName\n",
       "0   1  Human Resources\n",
       "1   2      Engineering\n",
       "2   3     Data Science\n",
       "3   4  Human Resources\n",
       "4   5      Engineering\n",
       "5   6     Data Science"
      ]
     },
     "execution_count": 30,
     "metadata": {},
     "output_type": "execute_result"
    }
   ],
   "source": [
    "# Load the Departments table into a pandas DataFrame\n",
    "departments_df = pd.read_sql_query(\"SELECT * FROM Departments;\", conn)\n",
    "print(\"\\nDepartments DataFrame:\")\n",
    "departments_df\n"
   ]
  },
  {
   "cell_type": "code",
   "execution_count": null,
   "id": "83c1c7bc-7910-4594-995d-8ba448848aca",
   "metadata": {},
   "outputs": [],
   "source": [
    "## 3. Performing Joins and Aggregations\n",
    "\n",
    "We can use SQL to perform joins and aggregations and retrieve the results as pandas DataFrames.\n"
   ]
  },
  {
   "cell_type": "code",
   "execution_count": 31,
   "id": "b30ee7de-a571-4051-97bf-75bf24512dfa",
   "metadata": {},
   "outputs": [
    {
     "name": "stdout",
     "output_type": "stream",
     "text": [
      "Joined Employees and Departments:\n"
     ]
    },
    {
     "data": {
      "text/html": [
       "<div>\n",
       "<style scoped>\n",
       "    .dataframe tbody tr th:only-of-type {\n",
       "        vertical-align: middle;\n",
       "    }\n",
       "\n",
       "    .dataframe tbody tr th {\n",
       "        vertical-align: top;\n",
       "    }\n",
       "\n",
       "    .dataframe thead th {\n",
       "        text-align: right;\n",
       "    }\n",
       "</style>\n",
       "<table border=\"1\" class=\"dataframe\">\n",
       "  <thead>\n",
       "    <tr style=\"text-align: right;\">\n",
       "      <th></th>\n",
       "      <th>Name</th>\n",
       "      <th>Age</th>\n",
       "      <th>Position</th>\n",
       "      <th>DepartmentName</th>\n",
       "    </tr>\n",
       "  </thead>\n",
       "  <tbody>\n",
       "    <tr>\n",
       "      <th>0</th>\n",
       "      <td>Alice Smith</td>\n",
       "      <td>30</td>\n",
       "      <td>Data Scientist</td>\n",
       "      <td>Data Science</td>\n",
       "    </tr>\n",
       "    <tr>\n",
       "      <th>1</th>\n",
       "      <td>Carol Davis</td>\n",
       "      <td>30</td>\n",
       "      <td>Data Analyst</td>\n",
       "      <td>Data Science</td>\n",
       "    </tr>\n",
       "  </tbody>\n",
       "</table>\n",
       "</div>"
      ],
      "text/plain": [
       "          Name  Age        Position DepartmentName\n",
       "0  Alice Smith   30  Data Scientist   Data Science\n",
       "1  Carol Davis   30    Data Analyst   Data Science"
      ]
     },
     "execution_count": 31,
     "metadata": {},
     "output_type": "execute_result"
    }
   ],
   "source": [
    "# Join Employees with Departments\n",
    "query = \"\"\"\n",
    "SELECT Employees.Name, Employees.Age, Employees.Position, Departments.DepartmentName\n",
    "FROM Employees\n",
    "JOIN Departments ON Employees.DeptID = Departments.ID\n",
    "\"\"\"\n",
    "\n",
    "joined_df = pd.read_sql_query(query, conn)\n",
    "print(\"Joined Employees and Departments:\")\n",
    "joined_df"
   ]
  },
  {
   "cell_type": "code",
   "execution_count": 32,
   "id": "94b7c16b-2b7f-4d8d-b786-9cdf98e79acf",
   "metadata": {},
   "outputs": [
    {
     "name": "stdout",
     "output_type": "stream",
     "text": [
      "\n",
      "Number of Employees per Department:\n"
     ]
    },
    {
     "data": {
      "text/html": [
       "<div>\n",
       "<style scoped>\n",
       "    .dataframe tbody tr th:only-of-type {\n",
       "        vertical-align: middle;\n",
       "    }\n",
       "\n",
       "    .dataframe tbody tr th {\n",
       "        vertical-align: top;\n",
       "    }\n",
       "\n",
       "    .dataframe thead th {\n",
       "        text-align: right;\n",
       "    }\n",
       "</style>\n",
       "<table border=\"1\" class=\"dataframe\">\n",
       "  <thead>\n",
       "    <tr style=\"text-align: right;\">\n",
       "      <th></th>\n",
       "      <th>DepartmentName</th>\n",
       "      <th>NumEmployees</th>\n",
       "    </tr>\n",
       "  </thead>\n",
       "  <tbody>\n",
       "    <tr>\n",
       "      <th>0</th>\n",
       "      <td>Data Science</td>\n",
       "      <td>2</td>\n",
       "    </tr>\n",
       "  </tbody>\n",
       "</table>\n",
       "</div>"
      ],
      "text/plain": [
       "  DepartmentName  NumEmployees\n",
       "0   Data Science             2"
      ]
     },
     "execution_count": 32,
     "metadata": {},
     "output_type": "execute_result"
    }
   ],
   "source": [
    "# Aggregation: Count employees in each department\n",
    "query = \"\"\"\n",
    "SELECT d.DepartmentName, COUNT(e.ID) AS NumEmployees\n",
    "FROM Employees e\n",
    "JOIN Departments d ON e.DeptID = d.ID\n",
    "GROUP BY d.DepartmentName\n",
    "\"\"\"\n",
    "aggregation_df = pd.read_sql_query(query, conn)\n",
    "print(\"\\nNumber of Employees per Department:\")\n",
    "aggregation_df"
   ]
  },
  {
   "cell_type": "code",
   "execution_count": null,
   "id": "368b8b14-fc25-410f-ab69-ad1a010c8433",
   "metadata": {},
   "outputs": [],
   "source": [
    "## 4. Manipulating Data in pandas\n",
    "\n",
    "Once the data is in a pandas DataFrame, we can use pandas methods for further analysis and visualization.\n"
   ]
  },
  {
   "cell_type": "code",
   "execution_count": null,
   "id": "8767e288-af22-4b2c-be7e-976309862fcb",
   "metadata": {},
   "outputs": [],
   "source": [
    "# Example: Add a new column for age categories\n",
    "employees_df['AgeCategory'] = pd.cut(employees_df['Age'], bins=[0, 30, 40, 100], labels=[\"Young\", \"Mid\", \"Senior\"])\n",
    "print(\"Employees with Age Category:\")\n",
    "print(employees_df)\n",
    "\n",
    "# Example: Filter employees older than 30\n",
    "older_employees = employees_df[employees_df['Age'] > 30]\n",
    "print(\"\\nEmployees Older Than 30:\")\n",
    "print(older_employees)\n"
   ]
  }
 ],
 "metadata": {
  "kernelspec": {
   "display_name": "Python 3 (ipykernel)",
   "language": "python",
   "name": "python3"
  },
  "language_info": {
   "codemirror_mode": {
    "name": "ipython",
    "version": 3
   },
   "file_extension": ".py",
   "mimetype": "text/x-python",
   "name": "python",
   "nbconvert_exporter": "python",
   "pygments_lexer": "ipython3",
   "version": "3.11.9"
  }
 },
 "nbformat": 4,
 "nbformat_minor": 5
}
