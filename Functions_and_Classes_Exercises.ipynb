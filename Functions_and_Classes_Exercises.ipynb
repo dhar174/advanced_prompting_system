{
 "cells": [
  {
   "cell_type": "markdown",
   "id": "021cdbe2",
   "metadata": {},
   "source": [
    "# Python Practice Exercises for Functions, Classes, and Inheritance"
   ]
  },
  {
   "cell_type": "markdown",
   "id": "15ea6d9f",
   "metadata": {},
   "source": [
    "## Functions"
   ]
  },
  {
   "cell_type": "markdown",
   "id": "1e31e7ec",
   "metadata": {},
   "source": [
    "### Exercise 1: Basic Function for Data Operations"
   ]
  },
  {
   "cell_type": "code",
   "execution_count": null,
   "id": "703b6871",
   "metadata": {},
   "outputs": [],
   "source": [
    "# Write a function `calculate_mean(numbers)` that takes a list of numbers and returns the mean (average).\n",
    "# Test it with the list `[10, 20, 30, 40, 50]`.\n",
    "\n",
    "# Bonus: Add error handling for empty lists.\n",
    "\n",
    "def calculate_mean(numbers):\n",
    "    if not numbers:\n",
    "        raise ValueError(\"The list is empty. Cannot calculate mean.\")\n",
    "    return sum(numbers) / len(numbers)\n",
    "\n",
    "# Test the function\n",
    "numbers = [10, 20, 30, 40, 50]\n",
    "print(\"Mean:\", calculate_mean(numbers))"
   ]
  },
  {
   "cell_type": "code",
   "execution_count": null,
   "id": "ae79e445",
   "metadata": {},
   "outputs": [],
   "source": [
    "# Test the function\n",
    "numbers = [10, 20, 30, 40, 50]\n",
    "print(\"Mean:\", calculate_mean(numbers))"
   ]
  },
  {
   "cell_type": "markdown",
   "id": "d3c6b77b",
   "metadata": {},
   "source": [
    "### Exercise 2: Parameterized Data Transformation"
   ]
  },
  {
   "cell_type": "code",
   "execution_count": null,
   "id": "3c060365",
   "metadata": {},
   "outputs": [],
   "source": [
    "# Write a function `scale_data(data, scale)` that takes a list of numbers and a scaling factor,\n",
    "# and returns a new list where each number is multiplied by the scaling factor.\n",
    "\n",
    "def scale_data(data, scale):\n",
    "    return [x * scale for x in data]\n",
    "\n",
    "# Test the function\n",
    "data = [1, 2, 3, 4]\n",
    "scale = 2\n",
    "print(\"Scaled Data:\", scale_data(data, scale))"
   ]
  },
  {
   "cell_type": "markdown",
   "id": "8482f38a",
   "metadata": {},
   "source": [
    "### Exercise 3: Filtering Data"
   ]
  },
  {
   "cell_type": "code",
   "execution_count": null,
   "id": "84924a70",
   "metadata": {},
   "outputs": [],
   "source": [
    "# Write a function `filter_above_threshold(data, threshold)` that takes a list of numbers and a threshold value,\n",
    "# and returns a new list containing only the numbers greater than the threshold.\n",
    "\n",
    "def filter_above_threshold(data, threshold):\n",
    "    return [x for x in data if x > threshold]\n",
    "\n",
    "# Test the function\n",
    "data = [5, 10, 15, 20]\n",
    "threshold = 10\n",
    "print(\"Filtered Data:\", filter_above_threshold(data, threshold))"
   ]
  },
  {
   "cell_type": "markdown",
   "id": "b6e8dfd3",
   "metadata": {},
   "source": [
    "### Exercise 4: Combining Functions"
   ]
  },
  {
   "cell_type": "code",
   "execution_count": null,
   "id": "495a3458",
   "metadata": {},
   "outputs": [],
   "source": [
    "# Use the functions from the previous exercises to:\n",
    "# 1. Scale the list `[5, 10, 15, 20]` by a factor of `2`.\n",
    "# 2. Filter out numbers less than `20` from the scaled list.\n",
    "# 3. Calculate the mean of the resulting list.\n",
    "\n",
    "data = [5, 10, 15, 20]\n",
    "scaled_data = scale_data(data, 2)\n",
    "filtered_data = filter_above_threshold(scaled_data, 20)\n",
    "mean = calculate_mean(filtered_data)\n",
    "\n",
    "print(\"Scaled Data:\", scaled_data)\n",
    "print(\"Filtered Data:\", filtered_data)\n",
    "print(\"Mean of Filtered Data:\", mean)"
   ]
  },
  {
   "cell_type": "markdown",
   "id": "674ce150",
   "metadata": {},
   "source": [
    "## Classes"
   ]
  },
  {
   "cell_type": "markdown",
   "id": "1cf05c7a",
   "metadata": {},
   "source": [
    "### Exercise 1: Creating a Simple Class"
   ]
  },
  {
   "cell_type": "code",
   "execution_count": null,
   "id": "996bd849",
   "metadata": {},
   "outputs": [],
   "source": [
    "# Create a class `Dataset` with:\n",
    "# - An attribute `data` (a list of numbers).\n",
    "# - A method `add_data(new_data)` to add a new list of numbers to the dataset.\n",
    "# - A method `mean()` to calculate and return the mean of the dataset.\n",
    "\n",
    "class Dataset:\n",
    "    def __init__(self):\n",
    "        self.data = []\n",
    "\n",
    "    def add_data(self, new_data):\n",
    "        self.data.extend(new_data)\n",
    "\n",
    "    def mean(self):\n",
    "        if not self.data:\n",
    "            return None\n",
    "        return sum(self.data) / len(self.data)\n",
    "\n",
    "# Test the class\n",
    "dataset = Dataset()\n",
    "dataset.add_data([10, 20, 30])\n",
    "print(\"Mean:\", dataset.mean())"
   ]
  },
  {
   "cell_type": "markdown",
   "id": "1e398b70",
   "metadata": {},
   "source": [
    "### Exercise 2: Handling More Attributes"
   ]
  },
  {
   "cell_type": "code",
   "execution_count": null,
   "id": "e63aaae5",
   "metadata": {},
   "outputs": [],
   "source": [
    "# Extend the `Dataset` class to include:\n",
    "# - A method `median()` to calculate and return the median of the dataset.\n",
    "# - A method `summary()` to print both the mean and median.\n",
    "\n",
    "class Dataset:\n",
    "    def __init__(self):\n",
    "        self.data = []\n",
    "\n",
    "    def add_data(self, new_data):\n",
    "        self.data.extend(new_data)\n",
    "\n",
    "    def mean(self):\n",
    "        if not self.data:\n",
    "            return None\n",
    "        return sum(self.data) / len(self.data)\n",
    "\n",
    "    def median(self):\n",
    "        if not self.data:\n",
    "            return None\n",
    "        sorted_data = sorted(self.data)\n",
    "        mid = len(sorted_data) // 2\n",
    "        if len(sorted_data) % 2 == 0:\n",
    "            return (sorted_data[mid - 1] + sorted_data[mid]) / 2\n",
    "        else:\n",
    "            return sorted_data[mid]\n",
    "\n",
    "    def summary(self):\n",
    "        print(\"Mean:\", self.mean())\n",
    "        print(\"Median:\", self.median())\n",
    "\n",
    "# Test the class\n",
    "dataset = Dataset()\n",
    "dataset.add_data([10, 20, 30, 40])\n",
    "dataset.summary()"
   ]
  },
  {
   "cell_type": "markdown",
   "id": "92c9695b",
   "metadata": {},
   "source": [
    "## Class Inheritance"
   ]
  },
  {
   "cell_type": "markdown",
   "id": "80507c81",
   "metadata": {},
   "source": [
    "### Exercise 1: Extending Functionality"
   ]
  },
  {
   "cell_type": "code",
   "execution_count": null,
   "id": "be711646",
   "metadata": {},
   "outputs": [],
   "source": [
    "# Create a new class `LabeledDataset` that inherits from `Dataset` and adds:\n",
    "# - An attribute `labels` (a list of strings).\n",
    "# - A method `add_labeled_data(new_data, new_labels)` to add data and corresponding labels.\n",
    "# - A method `get_data_by_label(label)` that returns the data associated with a given label.\n",
    "\n",
    "class LabeledDataset(Dataset):\n",
    "    def __init__(self):\n",
    "        super().__init__()\n",
    "        self.labels = []\n",
    "\n",
    "    def add_labeled_data(self, new_data, new_labels):\n",
    "        if len(new_data) != len(new_labels):\n",
    "            raise ValueError(\"Data and labels must have the same length.\")\n",
    "        self.add_data(new_data)\n",
    "        self.labels.extend(new_labels)\n",
    "\n",
    "    def get_data_by_label(self, label):\n",
    "        return [self.data[i] for i in range(len(self.labels)) if self.labels[i] == label]\n",
    "\n",
    "# Test the class\n",
    "labeled_dataset = LabeledDataset()\n",
    "labeled_dataset.add_labeled_data([10, 20, 30], [\"A\", \"B\", \"A\"])\n",
    "print(\"Data for label 'A':\", labeled_dataset.get_data_by_label(\"A\"))"
   ]
  }
 ],
 "metadata": {
  "language_info": {
   "name": "python"
  }
 },
 "nbformat": 4,
 "nbformat_minor": 5
}
