{
 "cells": [
  {
   "cell_type": "markdown",
   "id": "intro-section",
   "metadata": {},
   "source": [
    "# Python Exercises Organized by Concept"
   ]
  },
  {
   "cell_type": "markdown",
   "id": "variables-basics",
   "metadata": {},
   "source": [
    "## 1) Variables and Basic Operations"
   ]
  },
  {
   "cell_type": "code",
   "id": "problem-1",
   "metadata": {},
   "execution_count": null,
   "outputs": [],
   "source": [
    "# Problem 1: Hello, Variable!\n",
    "# Write a Python program that:\n",
    "# 1. Assigns your name to a variable.\n",
    "# 2. Prints a welcome message using that variable."
   ]
  },
  {
   "cell_type": "code",
   "id": "problem-2",
   "metadata": {},
   "execution_count": null,
   "outputs": [],
   "source": [
    "# Problem 2: Age Calculator\n",
    "# Write a Python program that:\n",
    "# 1. Stores your birth year in a variable.\n",
    "# 2. Calculates your age (assuming the current year is 2024).\n",
    "# 3. Prints: \"You are X years old!\""
   ]
  },
  {
   "cell_type": "code",
   "id": "problem-3",
   "metadata": {},
   "execution_count": null,
   "outputs": [],
   "source": [
    "# Problem 3: Circle Area and Circumference\n",
    "# Write a Python script to calculate the area and circumference of a circle.\n",
    "# radius should be in a variable called radius.\n",
    "# Area: π * radius^2\n",
    "# Circumference: 2 * π * radius\n",
    "# Print the results with formatted strings (f-strings)."
   ]
  },
  {
   "cell_type": "code",
   "id": "problem-4",
   "metadata": {},
   "execution_count": null,
   "outputs": [],
   "source": [
    "# Problem 4: Variable Naming\n",
    "# Given improperly named variables:\n",
    "# 1stNumber = 10\n",
    "# Total-Price = 20.5\n",
    "# MyName = \"Alice\"\n",
    "# Rename them following proper naming conventions and print the results."
   ]
  },
  {
   "cell_type": "code",
   "id": "problem-5",
   "metadata": {},
   "execution_count": null,
   "outputs": [],
   "source": [
    "# Problem 5: Variables and Data Types\n",
    "# Create variables: my_name, my_age, my_height.\n",
    "# Print their values and types."
   ]
  },
  
  {
   "cell_type": "markdown",
   "id": "data-structures",
   "metadata": {},
   "source": [
    "## 2) Data Structures (Lists, Tuples, Sets, Dictionaries)"
   ]
  },
  {
   "cell_type": "code",
   "id": "problem-6",
   "metadata": {},
   "execution_count": null,
   "outputs": [],
   "source": [
    "# Problem 6: Favorite Foods List\n",
    "# Create a list of your favorite foods.\n",
    "# Print the second item from the list."
   ]
  },
  {
   "cell_type": "code",
   "id": "problem-8",
   "metadata": {},
   "execution_count": null,
   "outputs": [],
   "source": [
    "# Problem 8: Tuples and Sets\n",
    "# Create a tuple (\"red\", \"blue\", \"green\", \"red\").\n",
    "# Count how many times \"red\" appears.\n",
    "# Convert the tuple to a set to remove duplicates."
   ]
  },
  {
   "cell_type": "code",
   "id": "problem-9",
   "metadata": {},
   "execution_count": null,
   "outputs": [],
   "source": [
    "# Problem 9: Dictionaries\n",
    "# Create a dictionary student_info with keys: \"name\", \"age\", \"grade\".\n",
    "# Update the \"grade\" value, add a \"favorite_subject\", and print keys and values."
   ]
  },

  {
   "cell_type": "markdown",
   "id": "string-manipulation",
   "metadata": {},
   "source": [
    "## 3) String Manipulation and Formatting"
   ]
  },
  {
   "cell_type": "code",
   "id": "problem-7",
   "metadata": {},
   "execution_count": null,
   "outputs": [],
   "source": [
    "# Problem 7: String Operations\n",
    "# Start with sentence = \" Python is amazing! \"\n",
    "# 1. Remove leading/trailing spaces.\n",
    "# 2. Convert to uppercase.\n",
    "# 3. Replace \"amazing\" with \"awesome\".\n",
    "# 4. Split the string into a list of words."
   ]
  },
  {
   "cell_type": "code",
   "id": "problem-12",
   "metadata": {},
   "execution_count": null,
   "outputs": [],
   "source": [
    "# Problem 12: f-Strings\n",
    "# Create variables name and hobby.\n",
    "# Use an f-string to print: \"Hello, my name is <name> and I love <hobby>.\""
   ]
  },

  {
   "cell_type": "markdown",
   "id": "more-data-structure-manipulation",
   "metadata": {},
   "source": [
    "## 4) More Data Structure and Variable Manipulations"
   ]
  },
  {
   "cell_type": "code",
   "id": "problem-15",
   "metadata": {},
   "execution_count": null,
   "outputs": [],
   "source": [
    "# Problem 15: Number Manipulation\n",
    "# Create a list of three numbers.\n",
    "# Replace the first number with 100.\n",
    "# Print the updated list."
   ]
  },
  {
   "cell_type": "code",
   "id": "problem-16",
   "metadata": {},
   "execution_count": null,
   "outputs": [],
   "source": [
    "# Problem 16: Dictionary Update\n",
    "# Create a dictionary of favorite traits.\n",
    "# Update one of the trait values.\n",
    "# Print the updated dictionary."
   ]
  },

  {
   "cell_type": "markdown",
   "id": "control-flow",
   "metadata": {},
   "source": [
    "## 5) Control Flow (Loops and Conditionals)"
   ]
  },
  {
   "cell_type": "code",
   "id": "problem-10",
   "metadata": {},
   "execution_count": null,
   "outputs": [],
   "source": [
    "# Problem 10: For Loops\n",
    "# Create a list of numbers 1 to 10.\n",
    "# Use a for loop to print \"The square of X is Y\"."
   ]
  },
  {
   "cell_type": "code",
   "id": "problem-11",
   "metadata": {},
   "execution_count": null,
   "outputs": [],
   "source": [
    "# Problem 11: While Loops\n",
    "# Write a while loop that counts down from 10 to 1.\n",
    "# Print each number and then print \"Countdown complete!\" after the loop."
   ]
  },
  {
   "cell_type": "code",
   "id": "problem-14",
   "metadata": {},
   "execution_count": null,
   "outputs": [],
   "source": [
    "# Problem 14: Simple Conditionals\n",
    "# Ask the user for a number.\n",
    "# Print \"Positive\" if >0, \"Negative\" if <0, \"Zero\" if =0."
   ]
  },
  
  {
   "cell_type": "markdown",
   "id": "user-input-io",
   "metadata": {},
   "source": [
    "## 6) User Input and I/O Based Tasks"
   ]
  },
  {
   "cell_type": "code",
   "id": "problem-13",
   "metadata": {},
   "execution_count": null,
   "outputs": [],
   "source": [
    "# Problem 13: Combining Lists and Dictionaries\n",
    "# Create a list of dictionaries, each representing a book.\n",
    "# Print titles of books published after 2000."
   ]
  },
  {
   "cell_type": "code",
   "id": "problem-17",
   "metadata": {},
   "execution_count": null,
   "outputs": [],
   "source": [
    "# Problem 17: Simple Calculator\n",
    "# Ask the user for two numbers.\n",
    "# Perform +, -, *, / and print results."
   ]
  },
  {
   "cell_type": "code",
   "id": "problem-18",
   "metadata": {},
   "execution_count": null,
   "outputs": [],
   "source": [
    "# Problem 18: Even or Odd?\n",
    "# Ask user for a number.\n",
    "# Print \"Even\" or \"Odd\"."
   ]
  },
  {
   "cell_type": "code",
   "id": "problem-19",
   "metadata": {},
   "execution_count": null,
   "outputs": [],
   "source": [
    "# Problem 19: Character Counter\n",
    "# Ask user for a sentence.\n",
    "# Count chars (excluding spaces) and print the count."
   ]
  },
  {
   "cell_type": "code",
   "id": "problem-20",
   "metadata": {},
   "execution_count": null,
   "outputs": [],
   "source": [
    "# Problem 20: Simple Loop\n",
    "# Ask user for a number.\n",
    "# Print all numbers from 1 up to that number."
   ]
  },
  {
   "cell_type": "code",
   "id": "problem-21",
   "metadata": {},
   "execution_count": null,
   "outputs": [],
   "source": [
    "# Problem 21: Guess the Number\n",
    "# Store a random number 1-10.\n",
    "# Ask user to guess.\n",
    "# Print feedback."
   ]
  },
  {
   "cell_type": "code",
   "id": "problem-22",
   "metadata": {},
   "execution_count": null,
   "outputs": [],
   "source": [
    "# Problem 22: Shopping List\n",
    "# Create an empty list.\n",
    "# Let the user add items.\n",
    "# Print the completed list."
   ]
  },
  {
   "cell_type": "code",
   "id": "problem-23",
   "metadata": {},
   "execution_count": null,
   "outputs": [],
   "source": [
    "# Problem 23: Multiplication Table\n",
    "# Ask user for a number.\n",
    "# Print its multiplication table (1 to 10)."
   ]
  },
  {
   "cell_type": "code",
   "id": "problem-24",
   "metadata": {},
   "execution_count": null,
   "outputs": [],
   "source": [
    "# Problem 24: Word Finder\n",
    "# Ask user for a sentence.\n",
    "# Ask user for a word.\n",
    "# Print whether the word is found."
   ]
  },
  {
   "cell_type": "code",
   "id": "problem-25",
   "metadata": {},
   "execution_count": null,
   "outputs": [],
   "source": [
    "# Problem 25: Simple Statistics\n",
    "# Ask user for five numbers.\n",
    "# Store in a list.\n",
    "# Print sum, avg, max, min."
   ]
  },

  {
   "cell_type": "markdown",
   "id": "advanced-applications",
   "metadata": {},
   "source": [
    "## 7) Advanced Applications"
   ]
  },
  {
   "cell_type": "code",
   "id": "problem-26",
   "metadata": {},
   "execution_count": null,
   "outputs": [],
   "source": [
    "# Problem 26: Random Password Generator\n",
    "# Generate an 8+ character password with upper, lower, digits, symbols.\n",
    "# Print it."
   ]
  },
  {
   "cell_type": "code",
   "id": "problem-27",
   "metadata": {},
   "execution_count": null,
   "outputs": [],
   "source": [
    "# Problem 27: BMI Calculator\n",
    "# Ask user for weight (kg) and height (m).\n",
    "# Calculate BMI = weight / (height^2).\n",
    "# Print BMI and a health message."
   ]
  },
  {
   "cell_type": "code",
   "id": "problem-28",
   "metadata": {},
   "execution_count": null,
   "outputs": [],
   "source": [
    "# Problem 28: Student Grade Analyzer\n",
    "# Dictionary with name and three subjects' scores.\n",
    "# Calculate average and determine grade A/B/C/F.\n",
    "# Print results using f-strings."
   ]
  },
  {
   "cell_type": "code",
   "id": "problem-29",
   "metadata": {},
   "execution_count": null,
   "outputs": [],
   "source": [
    "# Problem 29: Inventory Management\n",
    "# List of tuples: (product_name, quantity, price).\n",
    "# Calculate total value.\n",
    "# Add a product, remove a product.\n",
    "# Use a set for unique product names."
   ]
  },
  {
   "cell_type": "code",
   "id": "problem-30",
   "metadata": {},
   "execution_count": null,
   "outputs": [],
   "source": [
    "# Problem 30: Password Strength Checker\n",
    "# Check if a password is strong:\n",
    "# - At least 8 chars\n",
    "# - Contains uppercase, lowercase, digit\n",
    "# - No spaces\n",
    "# Print \"Strong password\" or \"Weak password\"."
   ]
  }
 ],
 "metadata": {
  "kernelspec": {
   "display_name": "Python 3 (ipykernel)",
   "language": "python",
   "name": "python3"
  },
  "language_info": {
   "name": "python",
   "version": "3.11.9"
  }
 },
 "nbformat": 4,
 "nbformat_minor": 5
}
