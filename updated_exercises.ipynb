{
 "cells": [
  {
   "cell_type": "markdown",
   "id": "intro-section",
   "metadata": {},
   "source": [
    "# Python Exercises Organized by Concept"
   ]
  },
  {
   "cell_type": "markdown",
   "id": "variables-basics",
   "metadata": {},
   "source": [
    "## 1) Variables and Basic Operations"
   ]
  },
  {
   "cell_type": "code",
   "execution_count": null,
   "id": "problem-1",
   "metadata": {},
   "outputs": [],
   "source": [
    "# Problem 1: Hello, Variable!\n",
    "# Write a Python program that:\n",
    "# 1. Assigns your name to a variable.\n",
    "# 2. Prints a welcome message using that variable."
   ]
  },
  {
   "cell_type": "code",
   "execution_count": null,
   "id": "93ea2912",
   "metadata": {},
   "outputs": [],
   "source": [
    "# Assign your name to a variable\n",
    "my_name = \"Your Name\"\n",
    "\n",
    "# Print a welcome message using that variable\n",
    "print(f\"Hello, {my_name}! Welcome!\")"
   ]
  },
  {
   "cell_type": "code",
   "execution_count": null,
   "id": "problem-2",
   "metadata": {},
   "outputs": [],
   "source": [
    "# Problem 2: Age Calculator\n",
    "# Write a Python program that:\n",
    "# 1. Stores your birth year in a variable.\n",
    "# 2. Calculates your age (assuming the current year is 2024).\n",
    "# 3. Prints: \"You are X years old!\""
   ]
  },
  {
   "cell_type": "code",
   "execution_count": null,
   "id": "b5f2032d",
   "metadata": {},
   "outputs": [],
   "source": [
    "# Store your birth year in a variable\n",
    "birth_year = 1990  # Replace with your actual birth year\n",
    "\n",
    "# Calculate your age (assuming the current year is 2024)\n",
    "current_year = 2024\n",
    "age = current_year - birth_year\n",
    "\n",
    "# Print the result\n",
    "print(f\"You are {age} years old!\")"
   ]
  },
  {
   "cell_type": "code",
   "execution_count": null,
   "id": "problem-3",
   "metadata": {},
   "outputs": [],
   "source": [
    "# Problem 3: Circle Area and Circumference\n",
    "# Write a Python script to calculate the area and circumference of a circle.\n",
    "# radius should be in a variable called radius.\n",
    "# Area: π * radius^2\n",
    "# Circumference: 2 * π * radius\n",
    "# Print the results with formatted strings (f-strings)."
   ]
  },
  {
   "cell_type": "code",
   "execution_count": null,
   "id": "bb5d31dc",
   "metadata": {},
   "outputs": [],
   "source": [
    "import math\n",
    "\n",
    "# Define the radius\n",
    "radius = 5  # Replace with the actual radius\n",
    "\n",
    "# Calculate the area\n",
    "area = math.pi * radius ** 2\n",
    "\n",
    "# Calculate the circumference\n",
    "circumference = 2 * math.pi * radius\n",
    "\n",
    "# Print the results\n",
    "print(f\"The area of the circle is: {area:.2f}\")\n",
    "print(f\"The circumference of the circle is: {circumference:.2f}\")"
   ]
  },
  {
   "cell_type": "code",
   "execution_count": null,
   "id": "problem-4",
   "metadata": {},
   "outputs": [],
   "source": [
    "# Problem 4: Variable Naming\n",
    "# Given improperly named variables:\n",
    "# 1stNumber = 10\n",
    "# Total-Price = 20.5\n",
    "# MyName = \"Alice\"\n",
    "# Rename them following proper naming conventions and print the results."
   ]
  },
  {
   "cell_type": "code",
   "execution_count": null,
   "id": "8cac1d41",
   "metadata": {},
   "outputs": [],
   "source": [
    "# Given improperly named variables\n",
    "first_number = 10\n",
    "total_price = 20.5\n",
    "my_name = \"Alice\"\n",
    "\n",
    "# Print the results\n",
    "print(f\"First Number: {first_number}\")\n",
    "print(f\"Total Price: {total_price}\")\n",
    "print(f\"My Name: {my_name}\")"
   ]
  },
  {
   "cell_type": "code",
   "execution_count": null,
   "id": "problem-5",
   "metadata": {},
   "outputs": [],
   "source": [
    "# Problem 5: Variables and Data Types\n",
    "# Create variables: my_name, my_age, my_height.\n",
    "# Print their values and types."
   ]
  },
  {
   "cell_type": "code",
   "execution_count": null,
   "id": "82b4f9e2",
   "metadata": {},
   "outputs": [],
   "source": [
    "# Create variables\n",
    "my_name = \"Alice\"\n",
    "my_age = 30\n",
    "my_height = 165.5\n",
    "\n",
    "# Print their values and types\n",
    "print(f\"Name: {my_name}, Type: {type(my_name)}\")\n",
    "print(f\"Age: {my_age}, Type: {type(my_age)}\")\n",
    "print(f\"Height: {my_height}, Type: {type(my_height)}\")"
   ]
  },
  {
   "cell_type": "markdown",
   "id": "data-structures",
   "metadata": {},
   "source": [
    "## 2) Data Structures (Lists, Tuples, Sets, Dictionaries)"
   ]
  },
  {
   "cell_type": "code",
   "execution_count": null,
   "id": "problem-6",
   "metadata": {},
   "outputs": [],
   "source": [
    "# Problem 6: Favorite Foods List\n",
    "# Create a list of your favorite foods.\n",
    "# Print the second item from the list."
   ]
  },
  {
   "cell_type": "code",
   "execution_count": null,
   "id": "cd879558",
   "metadata": {
    "vscode": {
     "languageId": "markdown"
    }
   },
   "outputs": [],
   "source": [
    "# Create a list of your favorite foods\n",
    "favorite_foods = [\"Pizza\", \"Sushi\", \"Ice Cream\", \"Burger\", \"Pasta\"]\n",
    "\n",
    "# Print the second item from the list\n",
    "print(f\"The second item in the list of favorite foods is: {favorite_foods[1]}\")"
   ]
  },
  {
   "cell_type": "code",
   "execution_count": null,
   "id": "problem-8",
   "metadata": {},
   "outputs": [],
   "source": [
    "# Problem 8: Tuples and Sets\n",
    "# Create a tuple (\"red\", \"blue\", \"green\", \"red\").\n",
    "# Count how many times \"red\" appears.\n",
    "# Convert the tuple to a set to remove duplicates."
   ]
  },
  {
   "cell_type": "code",
   "execution_count": null,
   "id": "da27bb65",
   "metadata": {},
   "outputs": [],
   "source": [
    "# Create a tuple\n",
    "colors = (\"red\", \"blue\", \"green\", \"red\")\n",
    "\n",
    "# Count how many times \"red\" appears\n",
    "red_count = colors.count(\"red\")\n",
    "\n",
    "# Convert the tuple to a set to remove duplicates\n",
    "unique_colors = set(colors)\n",
    "\n",
    "# Print the results\n",
    "print(f\"The color 'red' appears {red_count} times.\")\n",
    "print(f\"The unique colors are: {unique_colors}\")"
   ]
  },
  {
   "cell_type": "code",
   "execution_count": null,
   "id": "problem-9",
   "metadata": {},
   "outputs": [],
   "source": [
    "# Problem 9: Dictionaries\n",
    "# Create a dictionary student_info with keys: \"name\", \"age\", \"grade\".\n",
    "# Update the \"grade\" value, add a \"favorite_subject\", and print keys and values."
   ]
  },
  {
   "cell_type": "code",
   "execution_count": null,
   "id": "2188a88f",
   "metadata": {},
   "outputs": [],
   "source": [
    "# Create a dictionary student_info with keys: \"name\", \"age\", \"grade\"\n",
    "student_info = {\n",
    "    \"name\": \"John Doe\",\n",
    "    \"age\": 20,\n",
    "    \"grade\": \"B\"\n",
    "}\n",
    "\n",
    "# Update the \"grade\" value\n",
    "student_info[\"grade\"] = \"A\"\n",
    "\n",
    "# Add a \"favorite_subject\"\n",
    "student_info[\"favorite_subject\"] = \"Math\"\n",
    "\n",
    "# Print keys and values\n",
    "for key, value in student_info.items():\n",
    "    print(f\"{key}: {value}\")"
   ]
  },
  {
   "cell_type": "markdown",
   "id": "string-manipulation",
   "metadata": {},
   "source": [
    "## 3) String Manipulation and Formatting"
   ]
  },
  {
   "cell_type": "code",
   "execution_count": null,
   "id": "problem-7",
   "metadata": {},
   "outputs": [],
   "source": [
    "# Problem 7: String Operations\n",
    "# Start with sentence = \" Python is amazing! \"\n",
    "# 1. Remove leading/trailing spaces.\n",
    "# 2. Convert to uppercase.\n",
    "# 3. Replace \"amazing\" with \"awesome\".\n",
    "# 4. Split the string into a list of words."
   ]
  },
  {
   "cell_type": "code",
   "execution_count": null,
   "id": "702b9aba",
   "metadata": {},
   "outputs": [],
   "source": [
    "# Start with the given sentence\n",
    "sentence = \" Python is amazing! \"\n",
    "\n",
    "# 1. Remove leading/trailing spaces\n",
    "sentence = sentence.strip()\n",
    "\n",
    "# 2. Convert to uppercase\n",
    "sentence = sentence.upper()\n",
    "\n",
    "# 3. Replace \"amazing\" with \"awesome\"\n",
    "sentence = sentence.replace(\"AMAZING\", \"AWESOME\")\n",
    "\n",
    "# 4. Split the string into a list of words\n",
    "words_list = sentence.split()\n",
    "\n",
    "# Print the results\n",
    "print(f\"Modified sentence: {sentence}\")\n",
    "print(f\"List of words: {words_list}\")"
   ]
  },
  {
   "cell_type": "code",
   "execution_count": null,
   "id": "problem-12",
   "metadata": {},
   "outputs": [],
   "source": [
    "# Problem 12: f-Strings\n",
    "# Create variables name and hobby.\n",
    "# Use an f-string to print: \"Hello, my name is <name> and I love <hobby>.\""
   ]
  },
  {
   "cell_type": "code",
   "execution_count": null,
   "id": "9cba402f",
   "metadata": {},
   "outputs": [],
   "source": [
    "# Create variables name and hobby\n",
    "name = \"Alice\"\n",
    "hobby = \"painting\"\n",
    "\n",
    "# Use an f-string to print the desired message\n",
    "print(f\"Hello, my name is {name} and I love {hobby}.\")"
   ]
  },
  {
   "cell_type": "markdown",
   "id": "more-data-structure-manipulation",
   "metadata": {},
   "source": [
    "## 4) More Data Structure and Variable Manipulations"
   ]
  },
  {
   "cell_type": "code",
   "execution_count": null,
   "id": "problem-15",
   "metadata": {},
   "outputs": [],
   "source": [
    "# Problem 15: Number Manipulation\n",
    "# Create a list of three numbers.\n",
    "# Replace the first number with 100.\n",
    "# Print the updated list."
   ]
  },
  {
   "cell_type": "code",
   "execution_count": null,
   "id": "a4091228",
   "metadata": {},
   "outputs": [],
   "source": [
    "# Create a list of three numbers\n",
    "numbers = [10, 20, 30]\n",
    "\n",
    "# Replace the first number with 100\n",
    "numbers[0] = 100\n",
    "\n",
    "# Print the updated list\n",
    "print(f\"Updated list: {numbers}\")"
   ]
  },
  {
   "cell_type": "code",
   "execution_count": null,
   "id": "problem-16",
   "metadata": {},
   "outputs": [],
   "source": [
    "# Problem 16: Dictionary Update\n",
    "# Create a dictionary of favorite traits.\n",
    "# Update one of the trait values.\n",
    "# Print the updated dictionary."
   ]
  },
  {
   "cell_type": "code",
   "execution_count": null,
   "id": "3fbde8c3",
   "metadata": {},
   "outputs": [],
   "source": [
    "# Create a dictionary of favorite traits\n",
    "favorite_traits = {\n",
    "    \"honesty\": 10,\n",
    "    \"kindness\": 8,\n",
    "    \"intelligence\": 9\n",
    "}\n",
    "\n",
    "# Update one of the trait values\n",
    "favorite_traits[\"kindness\"] = 9\n",
    "\n",
    "# Print the updated dictionary\n",
    "print(f\"Updated favorite traits: {favorite_traits}\")"
   ]
  },
  {
   "cell_type": "markdown",
   "id": "control-flow",
   "metadata": {},
   "source": [
    "## 5) Control Flow (Loops and Conditionals)"
   ]
  },
  {
   "cell_type": "code",
   "execution_count": null,
   "id": "problem-10",
   "metadata": {},
   "outputs": [],
   "source": [
    "# Problem 10: For Loops\n",
    "# Create a list of numbers 1 to 10.\n",
    "# Use a for loop to print \"The square of X is Y\"."
   ]
  },
  {
   "cell_type": "code",
   "execution_count": null,
   "id": "f24568bc",
   "metadata": {},
   "outputs": [],
   "source": [
    "# Create a list of numbers from 1 to 10\n",
    "numbers = list(range(1, 11))\n",
    "\n",
    "# Use a for loop to print \"The square of X is Y\"\n",
    "for number in numbers:\n",
    "    print(f\"The square of {number} is {number ** 2}\")"
   ]
  },
  {
   "cell_type": "code",
   "execution_count": null,
   "id": "problem-11",
   "metadata": {},
   "outputs": [],
   "source": [
    "# Problem 11: While Loops\n",
    "# Write a while loop that counts down from 10 to 1.\n",
    "# Print each number and then print \"Countdown complete!\" after the loop."
   ]
  },
  {
   "cell_type": "code",
   "execution_count": null,
   "id": "7a86ae49",
   "metadata": {},
   "outputs": [],
   "source": [
    "# Write a while loop that counts down from 10 to 1\n",
    "count = 10\n",
    "\n",
    "while count > 0:\n",
    "    print(count)\n",
    "    count -= 1\n",
    "\n",
    "# Print \"Countdown complete!\" after the loop\n",
    "print(\"Countdown complete!\")"
   ]
  },
  {
   "cell_type": "code",
   "execution_count": null,
   "id": "problem-14",
   "metadata": {},
   "outputs": [],
   "source": [
    "# Problem 14: Simple Conditionals\n",
    "# Ask the user for a number.\n",
    "# Print \"Positive\" if >0, \"Negative\" if <0, \"Zero\" if =0."
   ]
  },
  {
   "cell_type": "code",
   "execution_count": null,
   "id": "8317592c",
   "metadata": {},
   "outputs": [],
   "source": [
    "# Ask the user for a number\n",
    "number = int(input(\"Enter a number: \"))\n",
    "\n",
    "# Print \"Positive\" if >0, \"Negative\" if <0, \"Zero\" if =0\n",
    "if number > 0:\n",
    "    print(\"Positive\")\n",
    "elif number < 0:\n",
    "    print(\"Negative\")\n",
    "else:\n",
    "    print(\"Zero\")"
   ]
  },
  {
   "cell_type": "markdown",
   "id": "user-input-io",
   "metadata": {},
   "source": [
    "## 6) User Input and I/O Based Tasks"
   ]
  },
  {
   "cell_type": "code",
   "execution_count": null,
   "id": "problem-13",
   "metadata": {},
   "outputs": [],
   "source": [
    "# Problem 13: Combining Lists and Dictionaries\n",
    "# Create a list of dictionaries, each representing a book.\n",
    "# Print titles of books published after 2000."
   ]
  },
  {
   "cell_type": "code",
   "execution_count": null,
   "id": "3be6f27d",
   "metadata": {},
   "outputs": [],
   "source": [
    "# Create a list of dictionaries, each representing a book\n",
    "books = [\n",
    "    {\"title\": \"Book One\", \"author\": \"Author A\", \"year\": 1999},\n",
    "    {\"title\": \"Book Two\", \"author\": \"Author B\", \"year\": 2005},\n",
    "    {\"title\": \"Book Three\", \"author\": \"Author C\", \"year\": 2010},\n",
    "    {\"title\": \"Book Four\", \"author\": \"Author D\", \"year\": 1995},\n",
    "    {\"title\": \"Book Five\", \"author\": \"Author E\", \"year\": 2021}\n",
    "]\n",
    "\n",
    "# Print titles of books published after 2000\n",
    "for book in books:\n",
    "    if book[\"year\"] > 2000:\n",
    "        print(book[\"title\"])"
   ]
  },
  {
   "cell_type": "code",
   "execution_count": null,
   "id": "problem-17",
   "metadata": {},
   "outputs": [],
   "source": [
    "# Problem 17: Simple Calculator\n",
    "# Ask the user for two numbers.\n",
    "# Perform +, -, *, / and print results."
   ]
  },
  {
   "cell_type": "code",
   "execution_count": null,
   "id": "5dcb104f",
   "metadata": {
    "vscode": {
     "languageId": "r"
    }
   },
   "outputs": [],
   "source": [
    "# Ask the user for two numbers\n",
    "num1 = float(input(\"Enter the first number: \"))\n",
    "num2 = float(input(\"Enter the second number: \"))\n",
    "\n",
    "# Perform addition, subtraction, multiplication, and division\n",
    "addition = num1 + num2\n",
    "subtraction = num1 - num2\n",
    "multiplication = num1 * num2\n",
    "division = num1 / num2 if num2 != 0 else \"undefined (division by zero)\"\n",
    "\n",
    "# Print the results\n",
    "print(f\"{num1} + {num2} = {addition}\")\n",
    "print(f\"{num1} - {num2} = {subtraction}\")\n",
    "print(f\"{num1} * {num2} = {multiplication}\")\n",
    "print(f\"{num1} / {num2} = {division}\")"
   ]
  },
  {
   "cell_type": "code",
   "execution_count": null,
   "id": "problem-18",
   "metadata": {},
   "outputs": [],
   "source": [
    "# Problem 18: Even or Odd?\n",
    "# Ask user for a number.\n",
    "# Print \"Even\" or \"Odd\"."
   ]
  },
  {
   "cell_type": "code",
   "execution_count": null,
   "id": "017ec769",
   "metadata": {},
   "outputs": [],
   "source": [
    "# Ask the user for a number\n",
    "number = int(input(\"Enter a number: \"))\n",
    "\n",
    "# Determine if the number is even or odd\n",
    "if number % 2 == 0:\n",
    "    print(\"Even\")\n",
    "else:\n",
    "    print(\"Odd\")"
   ]
  },
  {
   "cell_type": "code",
   "execution_count": null,
   "id": "problem-19",
   "metadata": {},
   "outputs": [],
   "source": [
    "# Problem 19: Character Counter\n",
    "# Ask user for a sentence.\n",
    "# Count chars (excluding spaces) and print the count."
   ]
  },
  {
   "cell_type": "code",
   "execution_count": null,
   "id": "c31d669d",
   "metadata": {},
   "outputs": [],
   "source": [
    "# Ask the user for a sentence\n",
    "sentence = input(\"Enter a sentence: \")\n",
    "\n",
    "# Count characters excluding spaces\n",
    "char_count = len(sentence.replace(\" \", \"\"))\n",
    "\n",
    "# Print the character count\n",
    "print(f\"The number of characters (excluding spaces) is: {char_count}\")"
   ]
  },
  {
   "cell_type": "code",
   "execution_count": null,
   "id": "problem-20",
   "metadata": {},
   "outputs": [],
   "source": [
    "# Problem 20: Simple Loop\n",
    "# Ask user for a number.\n",
    "# Print all numbers from 1 up to that number."
   ]
  },
  {
   "cell_type": "code",
   "execution_count": null,
   "id": "1d4d8da3",
   "metadata": {},
   "outputs": [],
   "source": [
    "# Ask the user for a number\n",
    "number = int(input(\"Enter a number: \"))\n",
    "\n",
    "# Print all numbers from 1 up to that number\n",
    "for i in range(1, number + 1):\n",
    "    print(i)"
   ]
  },
  {
   "cell_type": "code",
   "execution_count": null,
   "id": "problem-21",
   "metadata": {},
   "outputs": [],
   "source": [
    "# Problem 21: Guess the Number\n",
    "# Store a random number 1-10.\n",
    "# Ask user to guess.\n",
    "# Print feedback."
   ]
  },
  {
   "cell_type": "code",
   "execution_count": null,
   "id": "61786467",
   "metadata": {},
   "outputs": [],
   "source": [
    "import random\n",
    "\n",
    "# Store a random number between 1 and 10\n",
    "random_number = random.randint(1, 10)\n",
    "\n",
    "# Ask the user to guess the number\n",
    "guess = int(input(\"Guess the number (between 1 and 10): \"))\n",
    "\n",
    "# Print feedback\n",
    "if guess == random_number:\n",
    "    print(\"Congratulations! You guessed the correct number.\")\n",
    "else:\n",
    "    print(f\"Sorry, the correct number was {random_number}. Better luck next time!\")"
   ]
  },
  {
   "cell_type": "code",
   "execution_count": null,
   "id": "problem-22",
   "metadata": {},
   "outputs": [],
   "source": [
    "# Problem 22: Shopping List\n",
    "# Create an empty list.\n",
    "# Let the user add items.\n",
    "# Print the completed list."
   ]
  },
  {
   "cell_type": "code",
   "execution_count": null,
   "id": "e551f808",
   "metadata": {},
   "outputs": [],
   "source": [
    "# Create an empty list for the shopping list\n",
    "shopping_list = []\n",
    "\n",
    "# Let the user add items to the shopping list\n",
    "while True:\n",
    "    item = input(\"Enter an item to add to the shopping list (or type 'done' to finish): \")\n",
    "    if item.lower() == 'done':\n",
    "        break\n",
    "    shopping_list.append(item)\n",
    "\n",
    "# Print the completed shopping list\n",
    "print(\"Your shopping list:\")\n",
    "for item in shopping_list:\n",
    "    print(f\"- {item}\")"
   ]
  },
  {
   "cell_type": "code",
   "execution_count": null,
   "id": "problem-23",
   "metadata": {},
   "outputs": [],
   "source": [
    "# Problem 23: Multiplication Table\n",
    "# Ask user for a number.\n",
    "# Print its multiplication table (1 to 10)."
   ]
  },
  {
   "cell_type": "code",
   "execution_count": null,
   "id": "196d622a",
   "metadata": {},
   "outputs": [],
   "source": [
    "# Ask the user for a number\n",
    "number = int(input(\"Enter a number: \"))\n",
    "\n",
    "# Print its multiplication table from 1 to 10\n",
    "print(f\"Multiplication table for {number}:\")\n",
    "for i in range(1, 11):\n",
    "    print(f\"{number} x {i} = {number * i}\")"
   ]
  },
  {
   "cell_type": "code",
   "execution_count": null,
   "id": "problem-24",
   "metadata": {},
   "outputs": [],
   "source": [
    "# Problem 24: Word Finder\n",
    "# Ask user for a sentence.\n",
    "# Ask user for a word.\n",
    "# Print whether the word is found."
   ]
  },
  {
   "cell_type": "code",
   "execution_count": null,
   "id": "b74f5f63",
   "metadata": {},
   "outputs": [],
   "source": [
    "# Ask the user for a sentence\n",
    "sentence = input(\"Enter a sentence: \")\n",
    "\n",
    "# Ask the user for a word to find\n",
    "word = input(\"Enter a word to find: \")\n",
    "\n",
    "# Check if the word is in the sentence\n",
    "if word in sentence:\n",
    "    print(f\"The word '{word}' is found in the sentence.\")\n",
    "else:\n",
    "    print(f\"The word '{word}' is not found in the sentence.\")"
   ]
  },
  {
   "cell_type": "code",
   "execution_count": null,
   "id": "problem-25",
   "metadata": {},
   "outputs": [],
   "source": [
    "# Problem 25: Simple Statistics\n",
    "# Ask user for five numbers.\n",
    "# Store in a list.\n",
    "# Print sum, avg, max, min."
   ]
  },
  {
   "cell_type": "code",
   "execution_count": null,
   "id": "cff97ce2",
   "metadata": {},
   "outputs": [],
   "source": [
    "# Ask the user for five numbers and store them in a list\n",
    "numbers = []\n",
    "for i in range(5):\n",
    "    number = float(input(f\"Enter number {i + 1}: \"))\n",
    "    numbers.append(number)\n",
    "\n",
    "# Calculate sum, average, maximum, and minimum\n",
    "total_sum = sum(numbers)\n",
    "average = total_sum / len(numbers)\n",
    "maximum = max(numbers)\n",
    "minimum = min(numbers)\n",
    "\n",
    "# Print the results\n",
    "print(f\"Sum: {total_sum}\")\n",
    "print(f\"Average: {average}\")\n",
    "print(f\"Maximum: {maximum}\")\n",
    "print(f\"Minimum: {minimum}\")"
   ]
  },
  {
   "cell_type": "markdown",
   "id": "advanced-applications",
   "metadata": {},
   "source": [
    "## 7) Advanced Applications"
   ]
  },
  {
   "cell_type": "code",
   "execution_count": null,
   "id": "problem-26",
   "metadata": {},
   "outputs": [],
   "source": [
    "# Problem 26: Random Password Generator\n",
    "# Generate an 8+ character password with upper, lower, digits, symbols.\n",
    "# Print it."
   ]
  },
  {
   "cell_type": "code",
   "execution_count": null,
   "id": "b441ac62",
   "metadata": {},
   "outputs": [],
   "source": [
    "import random\n",
    "import string\n",
    "\n",
    "# Define the character sets\n",
    "upper = string.ascii_uppercase\n",
    "lower = string.ascii_lowercase\n",
    "digits = string.digits\n",
    "symbols = string.punctuation\n",
    "\n",
    "# Combine all character sets\n",
    "all_chars = upper + lower + digits + symbols\n",
    "\n",
    "# Generate a random password with at least 8 characters\n",
    "password_length = 8\n",
    "password = ''.join(random.choice(all_chars) for _ in range(password_length))\n",
    "\n",
    "# Ensure the password contains at least one character from each set\n",
    "while (not any(char in upper for char in password) or\n",
    "    not any(char in lower for char in password) or\n",
    "    not any(char in digits for char in password) or\n",
    "    not any(char in symbols for char in password)):\n",
    "    password = ''.join(random.choice(all_chars) for _ in range(password_length))\n",
    "\n",
    "# Print the generated password\n",
    "print(f\"Generated password: {password}\")"
   ]
  },
  {
   "cell_type": "code",
   "execution_count": null,
   "id": "problem-27",
   "metadata": {},
   "outputs": [],
   "source": [
    "# Problem 27: BMI Calculator\n",
    "# Ask user for weight (kg) and height (m).\n",
    "# Calculate BMI = weight / (height^2).\n",
    "# Print BMI and a health message."
   ]
  },
  {
   "cell_type": "code",
   "execution_count": null,
   "id": "b2494559",
   "metadata": {},
   "outputs": [],
   "source": [
    "# Ask the user for weight (kg) and height (m)\n",
    "weight = float(input(\"Enter your weight in kg: \"))\n",
    "height = float(input(\"Enter your height in meters: \"))\n",
    "\n",
    "# Calculate BMI\n",
    "bmi = weight / (height ** 2)\n",
    "\n",
    "# Print BMI and a health message\n",
    "print(f\"Your BMI is: {bmi:.2f}\")\n",
    "\n",
    "if bmi < 18.5:\n",
    "    print(\"You are underweight.\")\n",
    "elif 18.5 <= bmi < 24.9:\n",
    "    print(\"You have a normal weight.\")\n",
    "elif 25 <= bmi < 29.9:\n",
    "    print(\"You are overweight.\")\n",
    "else:\n",
    "    print(\"You are obese.\")"
   ]
  },
  {
   "cell_type": "code",
   "execution_count": null,
   "id": "problem-28",
   "metadata": {},
   "outputs": [],
   "source": [
    "# Problem 28: Student Grade Analyzer\n",
    "# Dictionary with name and three subjects' scores.\n",
    "# Calculate average and determine grade A/B/C/F.\n",
    "# Print results using f-strings."
   ]
  },
  {
   "cell_type": "code",
   "execution_count": null,
   "id": "1193fd8e",
   "metadata": {},
   "outputs": [],
   "source": [
    "# Dictionary with student names and their scores in three subjects\n",
    "students_scores = {\n",
    "    \"Alice\": [85, 90, 88],\n",
    "    \"Bob\": [78, 82, 80],\n",
    "    \"Charlie\": [92, 95, 93]\n",
    "}\n",
    "\n",
    "# Function to calculate average score and determine grade\n",
    "def calculate_grade(scores):\n",
    "    average = sum(scores) / len(scores)\n",
    "    if average >= 90:\n",
    "        grade = 'A'\n",
    "    elif average >= 80:\n",
    "        grade = 'B'\n",
    "    elif average >= 70:\n",
    "        grade = 'C'\n",
    "    else:\n",
    "        grade = 'F'\n",
    "    return average, grade\n",
    "\n",
    "# Print results using f-strings\n",
    "for student, scores in students_scores.items():\n",
    "    average, grade = calculate_grade(scores)\n",
    "    print(f\"{student}: Average Score = {average:.2f}, Grade = {grade}\")"
   ]
  },
  {
   "cell_type": "code",
   "execution_count": null,
   "id": "problem-29",
   "metadata": {},
   "outputs": [],
   "source": [
    "# Problem 29: Inventory Management\n",
    "# List of tuples: (product_name, quantity, price).\n",
    "# Calculate total value.\n",
    "# Add a product, remove a product.\n",
    "# Use a set for unique product names."
   ]
  },
  {
   "cell_type": "code",
   "execution_count": null,
   "id": "99acb1f1",
   "metadata": {},
   "outputs": [],
   "source": [
    "# List of tuples: (product_name, quantity, price)\n",
    "inventory = [\n",
    "    (\"apple\", 10, 0.5),\n",
    "    (\"banana\", 20, 0.2),\n",
    "    (\"orange\", 15, 0.3)\n",
    "]\n",
    "\n",
    "# Calculate total value of the inventory\n",
    "total_value = sum(quantity * price for _, quantity, price in inventory)\n",
    "print(f\"Total inventory value: ${total_value:.2f}\")\n",
    "\n",
    "# Add a product to the inventory\n",
    "new_product = (\"grape\", 25, 0.4)\n",
    "inventory.append(new_product)\n",
    "print(\"Added new product:\", new_product)\n",
    "\n",
    "# Remove a product from the inventory\n",
    "product_to_remove = \"banana\"\n",
    "inventory = [item for item in inventory if item[0] != product_to_remove]\n",
    "print(f\"Removed product: {product_to_remove}\")\n",
    "\n",
    "# Use a set to keep track of unique product names\n",
    "unique_product_names = {product_name for product_name, _, _ in inventory}\n",
    "print(\"Unique product names:\", unique_product_names)"
   ]
  },
  {
   "cell_type": "code",
   "execution_count": null,
   "id": "problem-30",
   "metadata": {},
   "outputs": [],
   "source": [
    "# Problem 30: Password Strength Checker\n",
    "# Check if a password is strong:\n",
    "# - At least 8 chars\n",
    "# - Contains uppercase, lowercase, digit\n",
    "# - No spaces\n",
    "# Print \"Strong password\" or \"Weak password\"."
   ]
  },
  {
   "cell_type": "code",
   "execution_count": null,
   "id": "281b49b6",
   "metadata": {},
   "outputs": [],
   "source": [
    "# Function to check if a password is strong\n",
    "def is_strong_password(password):\n",
    "    if (len(password) >= 8 and\n",
    "        any(char.isupper() for char in password) and\n",
    "        any(char.islower() for char in password) and\n",
    "        any(char.isdigit() for char in password) and\n",
    "        ' ' not in password):\n",
    "        return \"Strong password\"\n",
    "    else:\n",
    "        return \"Weak password\"\n",
    "\n",
    "# Example usage\n",
    "password = input(\"Enter a password to check: \")\n",
    "print(is_strong_password(password))"
   ]
  }
 ],
 "metadata": {
  "kernelspec": {
   "display_name": "Python 3 (ipykernel)",
   "language": "python",
   "name": "python3"
  },
  "language_info": {
   "name": "python",
   "version": "3.11.9"
  }
 },
 "nbformat": 4,
 "nbformat_minor": 5
}
