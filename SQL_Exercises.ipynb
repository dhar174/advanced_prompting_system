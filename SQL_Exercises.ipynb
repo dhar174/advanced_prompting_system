{
 "cells": [
  {
   "cell_type": "raw",
   "id": "6f5ea69b-d90d-40c8-a994-2d944111571c",
   "metadata": {},
   "source": [
    "# SQLite3 in Python for Absolute Beginners\n",
    "\n",
    "Welcome to this step-by-step guide!  \n",
    "In this notebook, you will learn the absolute basics of using SQLite databases in Python. We will:\n",
    "\n",
    "1. Connect to an in-memory SQLite database.\n",
    "2. Create a new table.\n",
    "3. Insert data into that table.\n",
    "4. Query (SELECT) data from the table.\n",
    "5. Filter data using a WHERE clause.\n",
    "6. Update data in the table.\n",
    "7. Delete rows from the table.\n",
    "8. Close the database connection.\n",
    "\n",
    "All tasks are explained thoroughly, and each code cell comes with instructive comments that \"give away\" the logic. You just need to fill in the code where indicated.\n",
    "\n",
    "**Tip:** Press `Shift+Enter` to run a cell after filling in the code.\n",
    "\n",
    "Let's begin!\n"
   ]
  },
  {
   "cell_type": "raw",
   "id": "2bf33a87-7d17-4588-9aa7-3ce0d73fc518",
   "metadata": {},
   "source": [
    "## Concept: Connecting to a SQLite Database\n",
    "\n",
    "We use the built-in `sqlite3` module to connect to a database. If the database file doesn’t exist, SQLite will create it. For our practice, we’ll use an **in-memory** database by passing `':memory:'` which creates a temporary database stored in RAM. It disappears as soon as we close the connection or end the session.\n",
    "\n",
    "**Goal:**  \n",
    "- Import the `sqlite3` module.\n",
    "- Create a connection to an in-memory database.\n",
    "- Create a `cursor` object from the connection.\n"
   ]
  },
  {
   "cell_type": "code",
   "execution_count": null,
   "id": "92f6d254-4241-4a62-a536-c848e072ab05",
   "metadata": {},
   "outputs": [],
   "source": [
    "# TASK: Import sqlite3 and connect to an in-memory database.\n",
    "# HINT: \n",
    "#    import sqlite3\n",
    "#    conn = sqlite3.connect(':memory:')\n",
    "#    cursor = conn.cursor()\n",
    "\n",
    "# WRITE YOUR CODE BELOW (uncomment and replace '...' as needed):\n",
    "\n",
    "# import ...\n",
    "# conn = ...\n",
    "# cursor = ...\n"
   ]
  },
  {
   "cell_type": "raw",
   "id": "1b8e16e3-7218-474a-bf8c-97533132f151",
   "metadata": {},
   "source": [
    "## Concept: Creating a Table\n",
    "\n",
    "We will create a simple table called `Employees` with columns:\n",
    "- ID (Integer, primary key, autoincrement)\n",
    "- Name (Text)\n",
    "- Age (Integer)\n",
    "- Position (Text)\n",
    "\n",
    "**Goal:**  \n",
    "- Use the `cursor.execute()` method with a `CREATE TABLE` statement.\n",
    "- Remember to `commit()` changes to the database.\n"
   ]
  },
  {
   "cell_type": "code",
   "execution_count": null,
   "id": "ea9c9dc0-5ad0-4077-b425-9dbef75a0a3c",
   "metadata": {},
   "outputs": [],
   "source": [
    "# TASK: Create a table named Employees with the specified columns.\n",
    "# HINT:\n",
    "#    cursor.execute(\"\"\"CREATE TABLE Employees (\n",
    "#        ID INTEGER PRIMARY KEY AUTOINCREMENT,\n",
    "#        Name TEXT,\n",
    "#        Age INTEGER,\n",
    "#        Position TEXT\n",
    "#    );\"\"\")\n",
    "#    conn.commit()\n",
    "\n",
    "# WRITE YOUR CODE BELOW:\n",
    "\n",
    "# cursor.execute(...)\n",
    "# conn.commit()\n"
   ]
  },
  {
   "cell_type": "raw",
   "id": "0aae1d9f-a2cb-4bd5-9f71-fb344a8eadb2",
   "metadata": {},
   "source": [
    "## 3. Creating a Cursor\n",
    "\n",
    "A **cursor** is what we use to execute SQL commands in SQLite.  \n",
    "Let’s create a cursor object from our database connection.\n"
   ]
  },
  {
   "cell_type": "code",
   "execution_count": null,
   "id": "c4c53013-a6ad-4b89-8f1d-bf03dbf29e88",
   "metadata": {},
   "outputs": [],
   "source": [
    "# TASK: Create a table named Employees with the specified columns.\n",
    "# HINT:\n",
    "#    cursor.execute(\"\"\"CREATE TABLE Employees (\n",
    "#        ID INTEGER PRIMARY KEY AUTOINCREMENT,\n",
    "#        Name TEXT,\n",
    "#        Age INTEGER,\n",
    "#        Position TEXT\n",
    "#    );\"\"\")\n",
    "#    conn.commit()\n",
    "\n",
    "# WRITE YOUR CODE BELOW:\n",
    "\n",
    "# cursor.execute(...)\n",
    "# conn.commit()\n"
   ]
  },
  {
   "cell_type": "markdown",
   "id": "57c0a727-f657-45ec-8073-4f0c311b5aed",
   "metadata": {},
   "source": [
    "## Concept: Inserting Data\n",
    "\n",
    "We can insert rows into the table using the `INSERT` statement. For example:\n",
    "\n",
    "```sql\n",
    "INSERT INTO Employees (Name, Age, Position) VALUES ('Alice', 30, 'Data Scientist');```\n",
    "Goal:\n",
    "\n",
    "Insert at least three employees into the Employees table.\n",
    "Commit the changes after insertion.\n"
   ]
  },
  {
   "cell_type": "code",
   "execution_count": null,
   "id": "c16c6819-fe2b-48b1-8745-22ad587b4845",
   "metadata": {},
   "outputs": [],
   "source": [
    "\n",
    "# TASK: Insert three employees with different Names, Ages, and Positions.\n",
    "# HINT:\n",
    "#    cursor.execute(\"INSERT INTO Employees (Name, Age, Position) VALUES ('Alice', 30, 'Data Scientist')\")\n",
    "#    cursor.execute(\"INSERT INTO Employees (Name, Age, Position) VALUES ('Bob', 45, 'Manager')\")\n",
    "#    cursor.execute(\"INSERT INTO Employees (Name, Age, Position) VALUES ('Carol', 29, 'Data Analyst')\")\n",
    "#    conn.commit()\n",
    "\n",
    "# WRITE YOUR CODE BELOW:\n",
    "\n",
    "# cursor.execute(...)\n",
    "# cursor.execute(...)\n",
    "# cursor.execute(...)\n",
    "# conn.commit()\n"
   ]
  },
  {
   "cell_type": "markdown",
   "id": "b9f81726-35cd-4b8f-95e7-f9ed4a8fc3dc",
   "metadata": {},
   "source": [
    "## Concept: Selecting Data (Basic SELECT)\n",
    "\n",
    "To view the data we inserted, we use the `SELECT` statement. For example:\n",
    "\n",
    "```sql\n",
    "SELECT * FROM Employees;\n",
    "```\n",
    "We then use cursor.fetchall() to retrieve all rows returned by the query, or cursor.fetchone() to get one row at a time.\n",
    "\n",
    "Goal:\n",
    "\n",
    "Select all columns and all rows from the Employees table.\n",
    "Print out the results."
   ]
  },
  {
   "cell_type": "code",
   "execution_count": null,
   "id": "154b40a0-02c5-4da6-8aa4-2efe98ebf3b1",
   "metadata": {},
   "outputs": [],
   "source": [
    "\n",
    "# TASK: Select all rows from Employees and print them.\n",
    "# HINT:\n",
    "#    cursor.execute(\"SELECT * FROM Employees\")\n",
    "#    rows = cursor.fetchall()\n",
    "#    print(rows)\n",
    "\n",
    "# WRITE YOUR CODE BELOW:\n",
    "\n",
    "# cursor.execute(...)\n",
    "# rows = ...\n",
    "# print(rows)\n"
   ]
  },
  {
   "cell_type": "markdown",
   "id": "46f0e3a8-bfff-4a68-9ba1-33c2235d60a7",
   "metadata": {},
   "source": [
    "## Concept: Filtering with WHERE\n",
    "\n",
    "We can filter results using the `WHERE` clause. For example, to get employees older than 30:\n",
    "\n",
    "```sql\n",
    "SELECT * FROM Employees WHERE Age > 30;\n"
   ]
  },
  {
   "cell_type": "code",
   "execution_count": null,
   "id": "6dcce6b4-45c3-4487-b0a9-64edbcb420a5",
   "metadata": {},
   "outputs": [],
   "source": [
    "# TASK: Select employees older than 30.\n",
    "# HINT:\n",
    "#    cursor.execute(\"SELECT * FROM Employees WHERE Age > 30\")\n",
    "#    print(cursor.fetchall())\n",
    "\n",
    "# WRITE YOUR CODE BELOW:\n",
    "\n",
    "# cursor.execute(...)\n",
    "# print(...)\n"
   ]
  },
  {
   "cell_type": "markdown",
   "id": "f7e7f62a-24b8-435a-9ac7-a19fe0ed98c7",
   "metadata": {},
   "source": [
    "## Concept: Updating Data\n",
    "\n",
    "We can change existing data using the `UPDATE` statement, typically combined with a `WHERE` clause to specify which rows to update. For example, to change Carol’s age to 30:\n",
    "\n",
    "```sql\n",
    "UPDATE Employees SET Age = 30 WHERE Name = 'Carol';\n",
    "```\n",
    "Goal:\n",
    "\n",
    "Update one of the employees’ Age or Position.\n",
    "Commit the changes.\n",
    "Re-select the data to confirm the change."
   ]
  },
  {
   "cell_type": "code",
   "execution_count": null,
   "id": "2ffb7e2c-99f1-498a-873c-ebed90c82863",
   "metadata": {},
   "outputs": [],
   "source": [
    "\n",
    "# TASK: Update the Age of 'Carol' to 30, commit, and then SELECT all rows to check.\n",
    "# HINT:\n",
    "#    cursor.execute(\"UPDATE Employees SET Age = 30 WHERE Name='Carol'\")\n",
    "#    conn.commit()\n",
    "#    cursor.execute(\"SELECT * FROM Employees\")\n",
    "#    print(cursor.fetchall())\n",
    "\n",
    "# WRITE YOUR CODE BELOW:\n",
    "\n",
    "# cursor.execute(...)\n",
    "# conn.commit()\n",
    "# cursor.execute(\"SELECT * FROM Employees\")\n",
    "# print(cursor.fetchall())\n"
   ]
  },
  {
   "cell_type": "markdown",
   "id": "26a63472-3242-4837-aa21-903a7bce1aca",
   "metadata": {},
   "source": [
    "## Concept: Deleting Data\n",
    "\n",
    "We can remove rows using the `DELETE` statement. For example, to delete Bob:\n",
    "\n",
    "```sql\n",
    "DELETE FROM Employees WHERE Name = 'Bob';\n",
    "Goal:\n",
    "\n",
    "Delete one employee (by Name or by ID).\n",
    "Commit the changes.\n",
    "Re-select all rows to confirm the deletion."
   ]
  },
  {
   "cell_type": "code",
   "execution_count": null,
   "id": "f96a5f7f-2975-427e-97e7-756066cc99fd",
   "metadata": {},
   "outputs": [],
   "source": [
    "# TASK: Delete an employee (e.g., the one named 'Bob'), commit, and then SELECT all rows to check.\n",
    "# HINT:\n",
    "#    cursor.execute(\"DELETE FROM Employees WHERE Name='Bob'\")\n",
    "#    conn.commit()\n",
    "#    cursor.execute(\"SELECT * FROM Employees\")\n",
    "#    print(cursor.fetchall())\n",
    "\n",
    "# WRITE YOUR CODE BELOW:\n",
    "\n",
    "# cursor.execute(...)\n",
    "# conn.commit()\n",
    "# cursor.execute(\"SELECT * FROM Employees\")\n",
    "# print(...)\n"
   ]
  },
  {
   "cell_type": "markdown",
   "id": "05c65e68-4e66-4963-9e8c-b6de0eaf33f1",
   "metadata": {},
   "source": [
    "## Concept: Closing the Connection\n",
    "\n",
    "Once we are done working with the database, it’s good practice to close the connection:\n",
    "\n",
    "```python\n",
    "conn.close()\n",
    "```\n",
    "Goal:\n",
    "\n",
    "Close the connection to the database."
   ]
  },
  {
   "cell_type": "code",
   "execution_count": null,
   "id": "be1d0198-f9c1-4839-85f4-789c693c0a34",
   "metadata": {},
   "outputs": [],
   "source": [
    "\n",
    "```python\n",
    "# TASK: Close the database connection\n",
    "# HINT:\n",
    "#    conn.close()\n",
    "\n",
    "# WRITE YOUR CODE BELOW:\n",
    "\n",
    "# conn.close()\n"
   ]
  },
  {
   "cell_type": "markdown",
   "id": "52d5d224-8e59-41d5-a7dc-5fb4bbf47e1e",
   "metadata": {},
   "source": [
    "# Congratulations!\n",
    "\n",
    "You have successfully:\n",
    "- Connected to a SQLite database in Python.\n",
    "- Created a table.\n",
    "- Inserted data.\n",
    "- Selected and filtered data.\n",
    "- Updated existing data.\n",
    "- Deleted data.\n",
    "- Closed the connection.\n",
    "\n",
    "You now know the absolute basics of working with SQLite3 databases in Python. Keep practicing and explore more SQL features to strengthen your skills!\n"
   ]
  }
 ],
 "metadata": {
  "kernelspec": {
   "display_name": "Python 3 (ipykernel)",
   "language": "python",
   "name": "python3"
  },
  "language_info": {
   "codemirror_mode": {
    "name": "ipython",
    "version": 3
   },
   "file_extension": ".py",
   "mimetype": "text/x-python",
   "name": "python",
   "nbconvert_exporter": "python",
   "pygments_lexer": "ipython3",
   "version": "3.11.9"
  }
 },
 "nbformat": 4,
 "nbformat_minor": 5
}
